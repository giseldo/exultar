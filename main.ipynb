{
 "cells": [
  {
   "cell_type": "code",
   "execution_count": 5,
   "id": "6e7bd713",
   "metadata": {},
   "outputs": [
    {
     "name": "stderr",
     "output_type": "stream",
     "text": [
      "Device set to use cpu\n",
      "Setting `pad_token_id` to `eos_token_id`:50256 for open-end generation.\n"
     ]
    },
    {
     "name": "stdout",
     "output_type": "stream",
     "text": [
      "[{'generated_text': 'The book is on the way to the shelves this month, and it\\'s already on sale in a book store.\\n\\nThere\\'s also an app for Android that you can use to see if it\\'s available for you (it\\'s available for Android users, for now).\\n\\nRelated: The 10 Best Android Books\\n\\nThe book is available for free on Amazon, which also recently added the \"Amazon Kindle\" brand, so if you\\'re a Kindle owner, you can sign up for free in the Kindle Store.\\n\\nThe app also includes some other helpful features, such as the ability to find your book and read it in a few years.\\n\\nIt\\'s also available to buy for $9.99, which is about the same price as the Kindle.'}]\n"
     ]
    }
   ],
   "source": [
    "# como usar umm modelo llm qualquer hospedado no hugging face\n",
    "from transformers import pipeline\n",
    "pipe = pipeline(\"text-generation\", model=\"openai-community/gpt2\")\n",
    "resultado = pipe(\"The book is on the\")\n",
    "print(resultado)"
   ]
  },
  {
   "cell_type": "code",
   "execution_count": null,
   "id": "629bb297",
   "metadata": {},
   "outputs": [
    {
     "name": "stderr",
     "output_type": "stream",
     "text": [
      "Device set to use cpu\n"
     ]
    },
    {
     "name": "stdout",
     "output_type": "stream",
     "text": [
      "[{'label': 'LABEL_0', 'score': 3.61655855178833}]\n"
     ]
    }
   ],
   "source": [
    "# como usar um modelo llm ajustado, exemplo um de estimativa de esforço ajustado por mim\n",
    "from transformers import pipeline\n",
    "pipe = pipeline(\"text-classification\", model=\"giseldo/distilbert_bert_uncased_finetuned_story_point\")\n",
    "resultado = pipe(\"I want a login with password\")\n",
    "print(resultado)"
   ]
  }
 ],
 "metadata": {
  "kernelspec": {
   "display_name": "Python 3",
   "language": "python",
   "name": "python3"
  },
  "language_info": {
   "codemirror_mode": {
    "name": "ipython",
    "version": 3
   },
   "file_extension": ".py",
   "mimetype": "text/x-python",
   "name": "python",
   "nbconvert_exporter": "python",
   "pygments_lexer": "ipython3",
   "version": "3.12.0"
  }
 },
 "nbformat": 4,
 "nbformat_minor": 5
}
